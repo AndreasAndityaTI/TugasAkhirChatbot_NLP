{
 "cells": [
  {
   "cell_type": "code",
   "execution_count": 1,
   "id": "4c0452cd-51bd-472f-949c-7857b1f5f84e",
   "metadata": {},
   "outputs": [],
   "source": [
    "import pandas as pd\n",
    "import numpy as np\n",
    "df = pd.read_csv(\"mcd.csv\")\n",
    "df.fillna(0, inplace=True)\n",
    "df.replace(to_replace = np.nan, value = 0)\n",
    "promos = df[df[\"R/L\"]==1]"
   ]
  },
  {
   "cell_type": "code",
   "execution_count": 2,
   "id": "fe23bfe2-801c-4dae-9743-8b1c9b3d7a3a",
   "metadata": {},
   "outputs": [
    {
     "name": "stdout",
     "output_type": "stream",
     "text": [
      "Hershey's McFlurry 15909.0 0.0 0.0\n",
      "Double Choco Pie 15000.0 20909.0 0.0\n",
      "Korean Soy Garlic Wings 30454.0 27727.0 0.0\n",
      "Iced Coffee Caramel Macchiato 19545.0 0.0 0.0\n"
     ]
    }
   ],
   "source": [
    "for i in range(len(promos)):\n",
    "    print(promos.iloc[i, 1], promos.iloc[i, 2],promos.iloc[i, 3],promos.iloc[i, 4])"
   ]
  },
  {
   "cell_type": "code",
   "execution_count": 31,
   "id": "7d3d2c81-072c-4dff-83a8-e99ae260332a",
   "metadata": {},
   "outputs": [
    {
     "name": "stdout",
     "output_type": "stream",
     "text": [
      "Hershey's McFlurry Rp 15909\n",
      "Double Choco Pie Rp 20909\n",
      "Korean Soy Garlic Wings Rp 27727\n",
      "Iced Coffee Caramel Macchiato Rp 19545\n",
      "\n"
     ]
    }
   ],
   "source": [
    "promo=\"\"\n",
    "for i in range(len(promos)):    \n",
    "    harga = str(int(promos.iloc[i,3]))\n",
    "    if promos.iloc[i,3]== 0.0:     \n",
    "        harga = str(int(promos.iloc[i,4]))\n",
    "        if promos.iloc[i,4] == 0.0:\n",
    "            harga = str(int(promos.iloc[i,2]))            \n",
    "    promo+= str(promos.iloc[i,1]+ \" Rp \"+harga+\"\\n\")\n",
    "print(promo)"
   ]
  },
  {
   "cell_type": "code",
   "execution_count": null,
   "id": "10479fbb-14a8-47c2-a27f-27ffbd901ffa",
   "metadata": {},
   "outputs": [],
   "source": []
  }
 ],
 "metadata": {
  "kernelspec": {
   "display_name": "Python 3 (ipykernel)",
   "language": "python",
   "name": "python3"
  },
  "language_info": {
   "codemirror_mode": {
    "name": "ipython",
    "version": 3
   },
   "file_extension": ".py",
   "mimetype": "text/x-python",
   "name": "python",
   "nbconvert_exporter": "python",
   "pygments_lexer": "ipython3",
   "version": "3.9.12"
  }
 },
 "nbformat": 4,
 "nbformat_minor": 5
}
